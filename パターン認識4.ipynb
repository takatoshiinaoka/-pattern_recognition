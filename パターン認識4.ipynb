{
  "nbformat": 4,
  "nbformat_minor": 0,
  "metadata": {
    "colab": {
      "name": "パターン認識4.ipynb",
      "provenance": [],
      "collapsed_sections": [],
      "authorship_tag": "ABX9TyMZ/JV4vi2Z23BMKPesDtov",
      "include_colab_link": true
    },
    "kernelspec": {
      "name": "python3",
      "display_name": "Python 3"
    },
    "language_info": {
      "name": "python"
    }
  },
  "cells": [
    {
      "cell_type": "markdown",
      "metadata": {
        "id": "view-in-github",
        "colab_type": "text"
      },
      "source": [
        "<a href=\"https://colab.research.google.com/github/takatoshiinaoka/pattern_recognition/blob/main/%E3%83%91%E3%82%BF%E3%83%BC%E3%83%B3%E8%AA%8D%E8%AD%984.ipynb\" target=\"_parent\"><img src=\"https://colab.research.google.com/assets/colab-badge.svg\" alt=\"Open In Colab\"/></a>"
      ]
    },
    {
      "cell_type": "markdown",
      "source": [
        "# パターン認識\n",
        "## 第4回：パターン認識(3章後半)\n"
      ],
      "metadata": {
        "id": "9ZNbIvz_0hLi"
      }
    },
    {
      "cell_type": "markdown",
      "source": [
        "### 各層における伝達信号の実装"
      ],
      "metadata": {
        "id": "Ayj5sGRo29Jt"
      }
    },
    {
      "cell_type": "code",
      "execution_count": null,
      "metadata": {
        "colab": {
          "base_uri": "https://localhost:8080/"
        },
        "id": "yvtlQTuz0gV6",
        "outputId": "4a279c4e-77a9-428d-cb4f-807b2735dec1"
      },
      "outputs": [
        {
          "output_type": "stream",
          "name": "stdout",
          "text": [
            "(2,)\n",
            "(2, 3)\n",
            "(3, 2)\n",
            "(2, 2)\n",
            "(3,)\n",
            "(2,)\n",
            "(2,)\n",
            "\n",
            "[0.3 0.7 1.1]\n",
            "[0.57444252 0.66818777 0.75026011]\n",
            "\n",
            "[0.51615984 1.21402696]\n",
            "[0.62624937 0.7710107 ]\n",
            "\n",
            "[0.31682708 0.69627909]\n",
            "[0.31682708 0.69627909]\n",
            "\n"
          ]
        }
      ],
      "source": [
        "import numpy as np\n",
        "X = np.array([1.0, 0.5])\n",
        "W1 = np.array([[0.1, 0.3, 0.5], [0.2, 0.4, 0.6]])\n",
        "W2 = np.array([[0.1, 0.4], [0.2, 0.5], [0.3, 0.6]])\n",
        "W3 = np.array([[0.1, 0.3], [0.2, 0.4]])\n",
        "B1 = np.array([0.1, 0.2, 0.3])\n",
        "B2 = np.array([0.1, 0.2])\n",
        "B3 = np.array([0.1, 0.2])\n",
        "\n",
        "print(X.shape)\n",
        "print(W1.shape)\n",
        "print(W2.shape)\n",
        "print(W3.shape)\n",
        "print(B1.shape)\n",
        "print(B2.shape)\n",
        "print(B3.shape)\n",
        "print()\n",
        "\n",
        "#シグモイド関数\n",
        "def sigmoid(x):\n",
        "  return 1/(1+np.exp(-x))\n",
        "\n",
        "#恒等関数\n",
        "def identity_function(x): \n",
        "  return x  #今回は何の計算もしていない[目的によって変わる]\n",
        "\n",
        "#1層目の計算\n",
        "A1 = np.dot(X, W1) + B1\n",
        "Z1 = sigmoid(A1) \n",
        "print(str(A1) +\"\\n\"+ str(Z1), end=\"\\n\\n\")\n",
        "\n",
        "#2層目の計算\n",
        "A2 = np.dot(Z1, W2) + B2\n",
        "Z2 = sigmoid(A2) \n",
        "print(str(A2) +\"\\n\"+ str(Z2), end=\"\\n\\n\")\n",
        "\n",
        "#3層目の計算\n",
        "A3 = np.dot(Z2, W3) + B3\n",
        "Y = identity_function(A3) \n",
        "print(str(A3) +\"\\n\"+ str(Y), end=\"\\n\\n\")"
      ]
    },
    {
      "cell_type": "markdown",
      "source": [
        "### 実装まとめ"
      ],
      "metadata": {
        "id": "R0uCkS_V7hNP"
      }
    },
    {
      "cell_type": "code",
      "source": [
        "import numpy as np\n",
        "\n",
        "def sigmoid(x):\n",
        "  return 1/(1+np.exp(-x))\n",
        "\n",
        "def identity_function(x): \n",
        "  return x  \n",
        "\n",
        "def softmax(a):\n",
        "  exp_a = np.exp(a)\n",
        "  sum_exp_a = np.sum(exp_a)\n",
        "  y = exp_a/sum_exp_a\n",
        "  return y\n",
        "\n",
        "def init_network(): #重みとバイアスの初期化\n",
        "  network = {} \n",
        "  network['W1'] = np.array([[0.1, 0.3, 0.5], [0.2, 0.4, 0.6]])\n",
        "  network['b1'] = np.array([0.1, 0.2, 0.3])\n",
        "  network['W2'] = np.array([[0.1, 0.4], [0.2, 0.5], [0.3, 0.6]])\n",
        "  network['b2'] = np.array([0.1, 0.2])\n",
        "  network['W3'] = np.array([[0.1, 0.3], [0.2, 0.4]])\n",
        "  network['b3'] = np.array([0.1, 0.2])\n",
        "\n",
        "  return network\n",
        "  \n",
        "def forwarod(network, x): #前向きの伝達情報. 後ろで,後ろ向きの学習がある.\n",
        "  W1, W2, W3 = network['W1'], network['W2'], network['W3']\n",
        "  b1, b2, b3 = network['b1'], network['b2'], network['b3']\n",
        "\n",
        "  a1 = np.dot(x, W1) + b1\n",
        "  z1 = sigmoid(a1) \n",
        "  a2 = np.dot(z1, W2) + b2\n",
        "  z2 = sigmoid(a2) \n",
        "  a3 = np.dot(z2, W3) + b3\n",
        "  y = identity_function(a3) \n",
        "\n",
        "  return y\n",
        "\n",
        "network = init_network()\n",
        "x = np.array([1.0, 0.5])   #入力でーた\n",
        "y = forwarod(network, x)  #出力データ\n",
        "print(y)"
      ],
      "metadata": {
        "colab": {
          "base_uri": "https://localhost:8080/"
        },
        "id": "B28HM-in3obu",
        "outputId": "1fd9f8ca-6cd2-4885-882c-1a6c38919c59"
      },
      "execution_count": null,
      "outputs": [
        {
          "output_type": "stream",
          "name": "stdout",
          "text": [
            "[0.31682708 0.69627909]\n"
          ]
        }
      ]
    },
    {
      "cell_type": "markdown",
      "source": [
        "### 出力層の設計\n",
        "- 分類問題\n",
        "  - データがどのクラスに属するか  \n",
        "  例：写真の人物は男か？女か？\n",
        "  - 活性化関数としてソフトマックス関数を使う　　\n",
        "\n",
        "  ```\n",
        "  def softmax(a):\n",
        "    exp_a = np.exp(a)\n",
        "    sum_exp_a = np.sum(exp_a)\n",
        "    y = exp_a/sum_exp_a\n",
        "    return y\n",
        "  ```\n",
        "- 回帰問題\n",
        "  - データから,別の数値を予想  \n",
        "  例：写真の人物の体重は？\n",
        "  - 活性化関数として恒等関数を使う  \n",
        "  \n",
        "  ```\n",
        "  def identity_function(x): \n",
        "    return x  \n",
        "  ```"
      ],
      "metadata": {
        "id": "WkzMuDbyGST2"
      }
    },
    {
      "cell_type": "code",
      "source": [
        "import numpy as np\n",
        "\n",
        "def softmax(a):\n",
        "  exp_a = np.exp(a)\n",
        "  sum_exp_a = np.sum(exp_a)\n",
        "  y = exp_a/sum_exp_a\n",
        "  return y\n",
        "\n",
        "a = np.array([0.3, 2.9, 4.0])\n",
        "softmax(a)"
      ],
      "metadata": {
        "colab": {
          "base_uri": "https://localhost:8080/"
        },
        "id": "pCwwWrTe7i7d",
        "outputId": "2bfb9cbf-2f9b-4cf8-a959-ac5168ed5b75"
      },
      "execution_count": null,
      "outputs": [
        {
          "output_type": "execute_result",
          "data": {
            "text/plain": [
              "array([0.01821127, 0.24519181, 0.73659691])"
            ]
          },
          "metadata": {},
          "execution_count": 25
        }
      ]
    },
    {
      "cell_type": "markdown",
      "source": [
        "### ソフトマックス関数の特徴\n",
        "- オーバーフローに注意"
      ],
      "metadata": {
        "id": "_qURnbmqLy6p"
      }
    },
    {
      "cell_type": "code",
      "source": [
        "import numpy as np\n",
        "\n",
        "def softmax(a):\n",
        "  c = np.max(a)\n",
        "  exp_a = np.exp(a - c)\n",
        "  sum_exp_a = np.sum(exp_a)\n",
        "  y = exp_a/sum_exp_a\n",
        "  return y\n",
        "\n",
        "a = np.array([0.3, 2.9, 4.0])\n",
        "softmax(a)"
      ],
      "metadata": {
        "colab": {
          "base_uri": "https://localhost:8080/"
        },
        "id": "_d7NYFNMI8mW",
        "outputId": "6a551397-21b0-4859-b187-08e50aab3296"
      },
      "execution_count": null,
      "outputs": [
        {
          "output_type": "execute_result",
          "data": {
            "text/plain": [
              "array([0.01821127, 0.24519181, 0.73659691])"
            ]
          },
          "metadata": {},
          "execution_count": 35
        }
      ]
    },
    {
      "cell_type": "markdown",
      "source": [
        "### 出力層ニューロンの数\n",
        "- 解くべき問題に応じて決める\n",
        "- 例：手書きの数字を認識する\n",
        "  - 数字は0~9の10個 = 10クラス\n",
        "\n",
        "### 手書き数字認識\n",
        "- 手書き数字画像を分類する  \n",
        "ニューラルネットを作る\n",
        "- 重みなどのパラメータは？\n",
        "  - 実際は学習で求める\n",
        "  - 今回は学習済みのパラメータを使用\n",
        "- 認識処理(推論処理)はニューラルネットの順方向伝播  \n",
        "forward propagation\n"
      ],
      "metadata": {
        "id": "35SuvAPmMCpi"
      }
    },
    {
      "cell_type": "markdown",
      "source": [
        "### MNISTデータセット\n",
        "- 手書き数字の有名なデータセット\n",
        "- 0~9の数字画像\n",
        "  - 訓練用画像：60,000枚\n",
        "  - テスト用画像：10,000枚\n",
        "  - 28×28ピクセルのグレー画像\n",
        "  - 各ビクセルは0~255の値"
      ],
      "metadata": {
        "id": "T96KKjpFNLJu"
      }
    },
    {
      "cell_type": "markdown",
      "source": [
        "### ニューラルネットワークの推論処理\n",
        "- ニューラルネットの構成\n",
        "  - 入力層：784ニューロン(28×28ピクセル)\n",
        "  - 出力層：10ニューロン(0~9の10クラス)\n",
        "  - 隠れ層：経験から決める(変更可)\n",
        "    - 1つ目：50ニューロン \n",
        "    - 2つ目：100ニューロン"
      ],
      "metadata": {
        "id": "_7vFrjydNp5T"
      }
    },
    {
      "cell_type": "code",
      "source": [
        "import sys, os\n",
        "sys.path.append(os.pardir)\n",
        "import cv2\n",
        "import numpy as np\n",
        "from PIL import Image\n",
        "import matplotlib.pyplot as plt\n",
        "\n",
        "try:\n",
        "    import urllib.request\n",
        "except ImportError:\n",
        "    raise ImportError('You should use Python 3.x')\n",
        "import os.path\n",
        "import gzip\n",
        "import pickle\n",
        "\n",
        "print(\"カレントワーキングディレクトリは[\" + os.getcwd() + \"]です\")\n",
        "\n",
        "img_ina3 = cv2.imread(\"/content/drive/MyDrive/Colab Notebooks/dataset/ina3.png\")\n",
        "\n",
        "\n",
        "#from dataset.mnist import load_mnist\n",
        "url_base = 'http://yann.lecun.com/exdb/mnist/'\n",
        "key_file = {\n",
        "    'train_img':'train-images-idx3-ubyte.gz',\n",
        "    'train_label':'train-labels-idx1-ubyte.gz',\n",
        "    'test_img':'t10k-images-idx3-ubyte.gz',\n",
        "    'test_label':'t10k-labels-idx1-ubyte.gz'\n",
        "}\n",
        "\n",
        "dataset_dir = os.path.dirname(os.path.abspath('__file__'))\n",
        "save_file = dataset_dir + \"/mnist.pkl\"\n",
        "\n",
        "train_num = 60000\n",
        "test_num = 10000\n",
        "img_dim = (1, 28, 28)\n",
        "img_size = 784\n",
        "\n",
        "\n",
        "def _download(file_name):\n",
        "    file_path = dataset_dir + \"/\" + file_name\n",
        "\n",
        "    if os.path.exists(file_path):\n",
        "        return\n",
        "\n",
        "    print(\"Downloading \" + file_name + \" ... \")\n",
        "    headers = {\"User-Agent\": \"Mozilla/5.0 (X11; Ubuntu; Linux x86_64; rv:47.0) Gecko/20100101 Firefox/47.0\"}\n",
        "    request = urllib.request.Request(url_base+file_name, headers=headers)\n",
        "    response = urllib.request.urlopen(request).read()\n",
        "    with open(file_path, mode='wb') as f:\n",
        "        f.write(response)\n",
        "    print(\"Done\")\n",
        "\n",
        "def download_mnist():\n",
        "    for v in key_file.values():\n",
        "       _download(v)\n",
        "\n",
        "def _load_label(file_name):\n",
        "    file_path = dataset_dir + \"/\" + file_name\n",
        "\n",
        "    print(\"Converting \" + file_name + \" to NumPy Array ...\")\n",
        "    with gzip.open(file_path, 'rb') as f:\n",
        "            labels = np.frombuffer(f.read(), np.uint8, offset=8)\n",
        "    print(\"Done\")\n",
        "\n",
        "    return labels\n",
        "\n",
        "def _load_img(file_name):\n",
        "    file_path = dataset_dir + \"/\" + file_name\n",
        "\n",
        "    print(\"Converting \" + file_name + \" to NumPy Array ...\")\n",
        "    with gzip.open(file_path, 'rb') as f:\n",
        "            data = np.frombuffer(f.read(), np.uint8, offset=16)\n",
        "    data = data.reshape(-1, img_size)\n",
        "    print(\"Done\")\n",
        "\n",
        "    return data\n",
        "\n",
        "def _convert_numpy():\n",
        "    dataset = {}\n",
        "    dataset['train_img'] =  _load_img(key_file['train_img'])\n",
        "    dataset['train_label'] = _load_label(key_file['train_label'])\n",
        "    dataset['test_img'] = _load_img(key_file['test_img'])\n",
        "    dataset['test_label'] = _load_label(key_file['test_label'])\n",
        "\n",
        "    return dataset\n",
        "\n",
        "def init_mnist():\n",
        "    download_mnist()\n",
        "    dataset = _convert_numpy()\n",
        "    print(\"Creating pickle file ...\")\n",
        "    with open(save_file, 'wb') as f:\n",
        "        pickle.dump(dataset, f, -1)\n",
        "    print(\"Done!\")\n",
        "\n",
        "def _change_one_hot_label(X):\n",
        "    T = np.zeros((X.size, 10))\n",
        "    for idx, row in enumerate(T):\n",
        "        row[X[idx]] = 1\n",
        "\n",
        "    return T\n",
        "\n",
        "\n",
        "def load_mnist(normalize=True, flatten=True, one_hot_label=False):\n",
        "    \"\"\"MNISTデータセットの読み込み\n",
        "    Parameters\n",
        "    ----------\n",
        "    normalize : 画像のピクセル値を0.0~1.0に正規化する\n",
        "    one_hot_label :\n",
        "        one_hot_labelがTrueの場合、ラベルはone-hot配列として返す\n",
        "        one-hot配列とは、たとえば[0,0,1,0,0,0,0,0,0,0]のような配列\n",
        "    flatten : 画像を一次元配列に平にするかどうか\n",
        "    Returns\n",
        "    -------\n",
        "    (訓練画像, 訓練ラベル), (テスト画像, テストラベル)\n",
        "    \"\"\"\n",
        "    if not os.path.exists(save_file):\n",
        "        init_mnist()\n",
        "\n",
        "    with open(save_file, 'rb') as f:\n",
        "        dataset = pickle.load(f)\n",
        "\n",
        "    if normalize:\n",
        "        for key in ('train_img', 'test_img'):\n",
        "            dataset[key] = dataset[key].astype(np.float32)\n",
        "            dataset[key] /= 255.0\n",
        "\n",
        "    if one_hot_label:\n",
        "        dataset['train_label'] = _change_one_hot_label(dataset['train_label'])\n",
        "        dataset['test_label'] = _change_one_hot_label(dataset['test_label'])\n",
        "\n",
        "    if not flatten:\n",
        "         for key in ('train_img', 'test_img'):\n",
        "            dataset[key] = dataset[key].reshape(-1, 1, 28, 28)\n",
        "\n",
        "    return (dataset['train_img'], dataset['train_label']), (dataset['test_img'], dataset['test_label'])\n",
        "\n",
        "\n",
        "if __name__ == '__main__':\n",
        "    init_mnist()\n",
        "    \n",
        "\n",
        "\n",
        "# mnist_show.py\n",
        "def img_show(img):\n",
        "  pil_img = Image.fromarray(np.uint8(img))\n",
        "  pil_img.show()\n",
        "\n",
        "(x_train, t_train), (x_test, t_test) = load_mnist(normalize=True, flatten=True, one_hot_label=False)\n",
        "\n",
        "img = x_train[10]\n",
        "label = t_train[0]\n",
        "print(label) #5\n",
        "\n",
        "print(img.shape) #(784,)\n",
        "img = img.reshape(28, 28) #形状を元の画像サイズに変換\n",
        "print(img.shape)\n",
        "\n",
        "# img_show(img)\n",
        "plt.imshow(img)"
      ],
      "metadata": {
        "id": "1wKoWfyTOvQm",
        "colab": {
          "base_uri": "https://localhost:8080/",
          "height": 562
        },
        "outputId": "cde0d958-b443-44f7-89f0-4632a17a45d8"
      },
      "execution_count": null,
      "outputs": [
        {
          "output_type": "stream",
          "name": "stdout",
          "text": [
            "カレントワーキングディレクトリは[/content]です\n",
            "Converting train-images-idx3-ubyte.gz to NumPy Array ...\n",
            "Done\n",
            "Converting train-labels-idx1-ubyte.gz to NumPy Array ...\n",
            "Done\n",
            "Converting t10k-images-idx3-ubyte.gz to NumPy Array ...\n",
            "Done\n",
            "Converting t10k-labels-idx1-ubyte.gz to NumPy Array ...\n",
            "Done\n",
            "Creating pickle file ...\n",
            "Done!\n",
            "5\n",
            "(784,)\n",
            "(28, 28)\n",
            "AxesImage(54,36;334.8x217.44)\n"
          ]
        },
        {
          "output_type": "execute_result",
          "data": {
            "text/plain": [
              "<matplotlib.image.AxesImage at 0x7f00b31c3f50>"
            ]
          },
          "metadata": {},
          "execution_count": 12
        },
        {
          "output_type": "display_data",
          "data": {
            "text/plain": [
              "<Figure size 432x288 with 1 Axes>"
            ],
            "image/png": "[encoded data removed]"
          },
          "metadata": {
            "needs_background": "light"
          }
        }
      ]
    },
    {
      "cell_type": "code",
      "source": [
        "plt.imshow(img_ina3)"
      ],
      "metadata": {
        "colab": {
          "base_uri": "https://localhost:8080/",
          "height": 283
        },
        "id": "3sTa2wfWs9vS",
        "outputId": "8998f3c5-b728-4286-898e-b7f817fa3068"
      },
      "execution_count": null,
      "outputs": [
        {
          "output_type": "execute_result",
          "data": {
            "text/plain": [
              "<matplotlib.image.AxesImage at 0x7f00b32d22d0>"
            ]
          },
          "metadata": {},
          "execution_count": 11
        },
        {
          "output_type": "display_data",
          "data": {
            "text/plain": [
              "<Figure size 432x288 with 1 Axes>"
            ],
            "image/png": "[encoded data removed]"
          },
          "metadata": {
            "needs_background": "light"
          }
        }
      ]
    },
    {
      "cell_type": "code",
      "source": [
        "from google.colab import drive\n",
        "drive.mount('/content/drive')"
      ],
      "metadata": {
        "colab": {
          "base_uri": "https://localhost:8080/"
        },
        "id": "I-yR793CpcoD",
        "outputId": "b1aad7a8-e2df-4ac8-894d-f719f5a9af1c"
      },
      "execution_count": null,
      "outputs": [
        {
          "output_type": "stream",
          "name": "stdout",
          "text": [
            "Mounted at /content/drive\n"
          ]
        }
      ]
    },
    {
      "cell_type": "code",
      "source": [
        "#neuralnet_mnist.py\n",
        "import sys, os\n",
        "sys.path.append(os.pardir) #親ディレクトファイルをインポートするための設定\n",
        "import numpy as np\n",
        "import pickle\n",
        "# from dataset.mnist import load_mnist\n",
        "\n",
        "# from common.functions import sigmoid, softmax\n",
        "def identity_function(x):\n",
        "    return x\n",
        "\n",
        "def step_function(x):\n",
        "    return np.array(x > 0, dtype=np.int)\n",
        "\n",
        "def sigmoid(x):\n",
        "    return 1 / (1 + np.exp(-x))    \n",
        "\n",
        "def sigmoid_grad(x):\n",
        "    return (1.0 - sigmoid(x)) * sigmoid(x)\n",
        "    \n",
        "def relu(x):\n",
        "    return np.maximum(0, x)\n",
        "\n",
        "def relu_grad(x):\n",
        "    grad = np.zeros_like(x)\n",
        "    grad[x>=0] = 1\n",
        "    return grad\n",
        "    \n",
        "def softmax(x):\n",
        "    x = x - np.max(x, axis=-1, keepdims=True)   # オーバーフロー対策\n",
        "    return np.exp(x) / np.sum(np.exp(x), axis=-1, keepdims=True)\n",
        "\n",
        "def sum_squared_error(y, t):\n",
        "    return 0.5 * np.sum((y-t)**2)\n",
        "\n",
        "def cross_entropy_error(y, t):\n",
        "    if y.ndim == 1:\n",
        "        t = t.reshape(1, t.size)\n",
        "        y = y.reshape(1, y.size)\n",
        "        \n",
        "    # 教師データがone-hot-vectorの場合、正解ラベルのインデックスに変換\n",
        "    if t.size == y.size:\n",
        "        t = t.argmax(axis=1)\n",
        "         \n",
        "    batch_size = y.shape[0]\n",
        "    return -np.sum(np.log(y[np.arange(batch_size), t] + 1e-7)) / batch_size\n",
        "\n",
        "def softmax_loss(X, t):\n",
        "    y = softmax(X)\n",
        "    return cross_entropy_error(y, t)\n",
        "\n",
        "\n",
        "\n",
        "\n",
        "#neuralnet_mnist.py\n",
        "def get_data():\n",
        "    (x_train, t_train), (x_test, t_test) = load_mnist(normalize=True, flatten=True, one_hot_label=False)\n",
        "    return x_test, t_test\n",
        "\n",
        "\n",
        "def init_network():\n",
        "    with open(\"sample_weight.pkl\", 'rb') as f:\n",
        "        network = pickle.load(f)\n",
        "    return network\n",
        "\n",
        "\n",
        "def predict(network, x):\n",
        "    w1, w2, w3 = network['W1'], network['W2'], network['W3']\n",
        "    b1, b2, b3 = network['b1'], network['b2'], network['b3']\n",
        "\n",
        "    a1 = np.dot(x, w1) + b1\n",
        "    z1 = sigmoid(a1)\n",
        "    a2 = np.dot(z1, w2) + b2\n",
        "    z2 = sigmoid(a2)\n",
        "    a3 = np.dot(z2, w3) + b3\n",
        "    y = softmax(a3)\n",
        "\n",
        "    return y\n",
        "\n",
        "\n",
        "x, t = get_data()\n",
        "network = init_network()\n",
        "\n",
        "batch_size = 100 # バッチの数\n",
        "accuracy_cnt = 0\n",
        "\n",
        "for i in range(0, len(x), batch_size):\n",
        "    x_batch = x[i:i+batch_size]\n",
        "    y_batch = predict(network, x_batch)\n",
        "    p = np.argmax(y_batch, axis=1)\n",
        "    accuracy_cnt += np.sum(p == t[i:i+batch_size])\n",
        "\n",
        "print(\"Accuracy:\" + str(float(accuracy_cnt) / len(x)))"
      ],
      "metadata": {
        "id": "xhhhN9LXR4Tr",
        "colab": {
          "base_uri": "https://localhost:8080/"
        },
        "outputId": "04dc404f-1b87-4606-ecb7-144d45508cbc"
      },
      "execution_count": null,
      "outputs": [
        {
          "output_type": "stream",
          "name": "stdout",
          "text": [
            "Accuracy:0.9352\n"
          ]
        }
      ]
    },
    {
      "cell_type": "markdown",
      "source": [
        ""
      ],
      "metadata": {
        "id": "RC_oXVBv03fY"
      }
    },
    {
      "cell_type": "markdown",
      "source": [
        "### バッチ処理\n",
        "- 1枚の画像(28×28=784ピクセル)からどの数字か認識\n",
        "\n",
        "\n",
        "|  x | w1 | w2 | w3 | Y |\n",
        "| ---- | ---- | ---- | ---- | ---- |\n",
        "| 784 | 784*50 | 50*100 | 100*10 | 10 |\n",
        "\n",
        "\n",
        "- 100枚の画像の写真からそれぞれどの数字か認識\n",
        "\n",
        "\n",
        "|  x | w1 | w2 | w3 | Y |\n",
        "| ---- | ---- | ---- | ---- | ---- |\n",
        "| 100*784 | 784*50 | 50*100 | 100*10 | 10 |\n"
      ],
      "metadata": {
        "id": "80QC8cxfTOlW"
      }
    },
    {
      "cell_type": "code",
      "source": [
        "x, t = get_data()\n",
        "network = init_network()\n",
        "\n",
        "batch_size = 100 #バッチの数\n",
        "accuracy_cnt = 0\n",
        "\n",
        "for i in range(0, len(x), batch_size):\n",
        "  x_batch = x[i : i+batch_size] #入力データを100枚づつまとめる\n",
        "  y_batch = predict(network, x_batch)\n",
        "  p = np.argmax(y_batch, axis=1)\n",
        "  accuracy_cnt += np.sum(p == t[i:i+batch_size]) #正しい答えの数をカウント\n",
        "\n",
        "print(\"Accuracy：\" + str(float(accuracy_cnt)/len(x)))"
      ],
      "metadata": {
        "id": "vw7KJ5oWUIwC",
        "colab": {
          "base_uri": "https://localhost:8080/"
        },
        "outputId": "b0206bb3-e444-455d-b258-3b7fa49d237b"
      },
      "execution_count": null,
      "outputs": [
        {
          "output_type": "stream",
          "name": "stdout",
          "text": [
            "Accuracy：0.9352\n"
          ]
        }
      ]
    },
    {
      "cell_type": "markdown",
      "source": [
        "# 自分の書いた文字をAIに認識させる"
      ],
      "metadata": {
        "id": "HP-moR8l08TM"
      }
    },
    {
      "cell_type": "code",
      "source": [
        "import sys, os\n",
        "sys.path.append(os.pardir) #親ディレクトファイルをインポートするための設定\n",
        "import numpy as np\n",
        "import matplotlib.pyplot as plt\n",
        "import pickle\n",
        "\n",
        "def sigmoid(x):\n",
        "    return 1 / (1 + np.exp(-x))    \n",
        "\n",
        "def softmax(x):\n",
        "    x = x - np.max(x, axis=-1, keepdims=True)   # オーバーフロー対策\n",
        "    return np.exp(x) / np.sum(np.exp(x), axis=-1, keepdims=True)\n",
        "\n",
        "def init_network():\n",
        "    with open(\"sample_weight.pkl\", 'rb') as f:\n",
        "        network = pickle.load(f)\n",
        "    return network\n",
        "\n",
        "def predict(network, x):\n",
        "    w1, w2, w3 = network['W1'], network['W2'], network['W3']\n",
        "    b1, b2, b3 = network['b1'], network['b2'], network['b3']\n",
        "\n",
        "    a1 = np.dot(x, w1) + b1\n",
        "    z1 = sigmoid(a1)\n",
        "    a2 = np.dot(z1, w2) + b2\n",
        "    z2 = sigmoid(a2)\n",
        "    a3 = np.dot(z2, w3) + b3\n",
        "    y = softmax(a3)\n",
        "\n",
        "    return y\n",
        "\n",
        "# x = cv2.imread(\"/content/drive/MyDrive/Colab Notebooks/dataset/ina3.png\")\n",
        "# x = np.array(Image.open('/content/drive/MyDrive/Colab Notebooks/dataset/ina3.png').convert('L'))\n",
        "x = np.array(Image.open('/content/drive/MyDrive/Colab Notebooks/dataset/ina3-nega.png').convert('L'))\n",
        "plt.imshow(x) # 入力画像を表示\n",
        "\n",
        "print(x.shape) #変換前\n",
        "x = np.array(x).flatten() # 2次元を1次元に\n",
        "print(x.shape) #変換後\n",
        "print()\n",
        "\n",
        "network = init_network() #学習済みモデルを使用\n",
        "num = predict(network, x) # 関数\n",
        "num = np.around(num, decimals=2)\n",
        "\n",
        "for i in range(10):\n",
        "  print(str(i)+\" ： \"+str(num[i])+\"%\")\n",
        "\n",
        "print()\n",
        "# print(num)"
      ],
      "metadata": {
        "id": "LLWwujpHVRyx",
        "colab": {
          "base_uri": "https://localhost:8080/",
          "height": 562
        },
        "outputId": "dd247fe7-2870-413a-8c60-146b05a4b4cd"
      },
      "execution_count": null,
      "outputs": [
        {
          "output_type": "stream",
          "name": "stdout",
          "text": [
            "(28, 28)\n",
            "(784,)\n",
            "\n",
            "0 ： 0.0%\n",
            "1 ： 0.0%\n",
            "2 ： 0.0%\n",
            "3 ： 0.61%\n",
            "4 ： 0.0%\n",
            "5 ： 0.01%\n",
            "6 ： 0.0%\n",
            "7 ： 0.0%\n",
            "8 ： 0.37%\n",
            "9 ： 0.0%\n",
            "\n"
          ]
        },
        {
          "output_type": "stream",
          "name": "stderr",
          "text": [
            "/usr/local/lib/python3.7/dist-packages/ipykernel_launcher.py:8: RuntimeWarning: overflow encountered in exp\n",
            "  \n"
          ]
        },
        {
          "output_type": "display_data",
          "data": {
            "text/plain": [
              "<Figure size 432x288 with 1 Axes>"
            ],
            "image/png": "[encoded data removed]"
          },
          "metadata": {
            "needs_background": "light"
          }
        }
      ]
    },
    {
      "cell_type": "code",
      "source": [
        "print(\"カレントワーキングディレクトリは[\" + os.getcwd() + \"]です\")"
      ],
      "metadata": {
        "colab": {
          "base_uri": "https://localhost:8080/"
        },
        "id": "yj8FKRKp1U5-",
        "outputId": "2e3ea343-2a64-4bec-b98e-4f2588a4f33d"
      },
      "execution_count": null,
      "outputs": [
        {
          "output_type": "stream",
          "name": "stdout",
          "text": [
            "カレントワーキングディレクトリは[/content]です\n"
          ]
        }
      ]
    }
  ]
}