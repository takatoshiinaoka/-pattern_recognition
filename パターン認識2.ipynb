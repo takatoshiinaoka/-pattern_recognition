{
  "nbformat": 4,
  "nbformat_minor": 0,
  "metadata": {
    "colab": {
      "name": "パターン認識2.ipynb",
      "provenance": [],
      "authorship_tag": "ABX9TyNgv7xuml/Ogf1VLOHf9Skt",
      "include_colab_link": true
    },
    "kernelspec": {
      "name": "python3",
      "display_name": "Python 3"
    },
    "language_info": {
      "name": "python"
    }
  },
  "cells": [
    {
      "cell_type": "markdown",
      "metadata": {
        "id": "view-in-github",
        "colab_type": "text"
      },
      "source": [
        "<a href=\"https://colab.research.google.com/github/takatoshiinaoka/-pattern_recognition/blob/main/%E3%83%91%E3%82%BF%E3%83%BC%E3%83%B3%E8%AA%8D%E8%AD%982.ipynb\" target=\"_parent\"><img src=\"https://colab.research.google.com/assets/colab-badge.svg\" alt=\"Open In Colab\"/></a>"
      ]
    },
    {
      "cell_type": "markdown",
      "source": [
        "# パターン認識\n",
        "## 第2回：パーセプトロン(2章)"
      ],
      "metadata": {
        "id": "njpTa6FBkL02"
      }
    },
    {
      "cell_type": "markdown",
      "source": [
        "### 簡単な実装\n",
        "- yの値\n",
        "  - 0 (w1x1+w2x2 ≦ θ)\n",
        "  - 1 (w1x1+w2x2 > θ)\n",
        "\n",
        "  (w1, x1, θ) = (0.5, 0.5, 0.7)"
      ],
      "metadata": {
        "id": "BXGaH4uGb1bu"
      }
    },
    {
      "cell_type": "code",
      "source": [
        "def AND(x1, x2):\n",
        "  w1, w2, theta = 0.5, 0.5, 0.7\n",
        "  tmp = x1*w1+x2*w2\n",
        "  if tmp <= theta:\n",
        "    return 0\n",
        "  elif tmp > theta:\n",
        "    return 1\n",
        "\n",
        "def OR(x1, x2):\n",
        "  w1, w2, theta = 0.5, 0.5, 0.5\n",
        "  tmp = x1*w1+x2*w2\n",
        "  if tmp < theta:\n",
        "    return 0\n",
        "  elif tmp >= theta:\n",
        "    return 1\n",
        "\n",
        "def NAND(x1, x2):\n",
        "  w1, w2, theta = -0.5, -0.5, -0.7\n",
        "  tmp = x1*w1+x2*w2\n",
        "  if tmp < theta:\n",
        "    return 0\n",
        "  elif tmp > theta:\n",
        "    return 1"
      ],
      "metadata": {
        "id": "KqJm54LCn2l7"
      },
      "execution_count": 46,
      "outputs": []
    },
    {
      "cell_type": "code",
      "source": [
        "if __name__ == '__main__':\n",
        "  for xs in [(0, 0), (1, 0), (0, 1), (1, 1)]:\n",
        "    y = AND(xs[0], xs[1])\n",
        "    print(str(xs) + \"->\" +str(y))"
      ],
      "metadata": {
        "colab": {
          "base_uri": "https://localhost:8080/"
        },
        "id": "ml3uuw5Dcvw7",
        "outputId": "fc81d9dd-9329-4f4a-c6bb-2a6445ecc5ef"
      },
      "execution_count": 56,
      "outputs": [
        {
          "output_type": "stream",
          "name": "stdout",
          "text": [
            "(0, 0)->0\n",
            "(1, 0)->0\n",
            "(0, 1)->0\n",
            "(1, 1)->1\n"
          ]
        }
      ]
    },
    {
      "cell_type": "code",
      "source": [
        "if __name__ == '__main__':\n",
        "  for xs in [(0, 0), (1, 0), (0, 1), (1, 1)]:\n",
        "    y = OR(xs[0], xs[1])\n",
        "    print(str(xs) + \"->\" +str(y))"
      ],
      "metadata": {
        "colab": {
          "base_uri": "https://localhost:8080/"
        },
        "id": "GbkDtM7cdMKV",
        "outputId": "732c6935-0ede-4328-9f25-591be81b696f"
      },
      "execution_count": 57,
      "outputs": [
        {
          "output_type": "stream",
          "name": "stdout",
          "text": [
            "(0, 0)->0\n",
            "(1, 0)->1\n",
            "(0, 1)->1\n",
            "(1, 1)->1\n"
          ]
        }
      ]
    },
    {
      "cell_type": "code",
      "source": [
        "if __name__ == '__main__':\n",
        "  for xs in [(0, 0), (1, 0), (0, 1), (1, 1)]:\n",
        "    y = NAND(xs[0], xs[1])\n",
        "    print(str(xs) + \"->\" +str(y))"
      ],
      "metadata": {
        "colab": {
          "base_uri": "https://localhost:8080/"
        },
        "id": "npPQ3N-odTPM",
        "outputId": "df8f2ba6-1724-40ed-875c-672ab28a130a"
      },
      "execution_count": 58,
      "outputs": [
        {
          "output_type": "stream",
          "name": "stdout",
          "text": [
            "(0, 0)->1\n",
            "(1, 0)->1\n",
            "(0, 1)->1\n",
            "(1, 1)->0\n"
          ]
        }
      ]
    },
    {
      "cell_type": "markdown",
      "source": [
        "### 重みとバイアスの導入\n",
        "- w1x1+w2x2≦θ ➡︎ b+w1x1+w2x2≦0\n",
        "  - b:閾値をバイアスに\n",
        "  - 直線の式\n",
        "- NumPyを使って対話モードで実装"
      ],
      "metadata": {
        "id": "rTYxdtKAdouk"
      }
    },
    {
      "cell_type": "code",
      "source": [
        "import numpy as np\n",
        "\n",
        "x = np.array([0, 1])      #入力\n",
        "w = np.array([0.5, 0.5])  #重み\n",
        "b = -0.7                  #バイアス\n",
        "w*x\n",
        "np.sum(w*x)\n",
        "np.sum(w*x)+b\n",
        "\n",
        "print(w*x)\n",
        "print(np.sum(w*x))\n",
        "print(np.sum(w*x)+b)\n",
        "print(np.sum(w*x)+b>0)"
      ],
      "metadata": {
        "colab": {
          "base_uri": "https://localhost:8080/"
        },
        "id": "i0sOXiMCdT1G",
        "outputId": "f173b05a-cfac-4956-fb43-14c7ad248f53"
      },
      "execution_count": 21,
      "outputs": [
        {
          "output_type": "stream",
          "name": "stdout",
          "text": [
            "[0.  0.5]\n",
            "0.5\n",
            "-0.19999999999999996\n",
            "False\n"
          ]
        }
      ]
    },
    {
      "cell_type": "markdown",
      "source": [
        "### XORゲートの実装\n",
        "- 既に実装したAND,NAND,OR関数を利用\n",
        "- 多層パーセプトロン  \n",
        "今回は2層パーセプトロンで非線形なXORゲートが実現できる"
      ],
      "metadata": {
        "id": "o7NXxOUbg6xB"
      }
    },
    {
      "cell_type": "code",
      "source": [
        "def XOR(x1, x2):\n",
        "  s1 = NAND(x1,x2)\n",
        "  s2 = OR(x1, x2)\n",
        "  y = AND(s1, s2)\n",
        "  return y\n",
        "\n",
        "if __name__ == '__main__':\n",
        "  for xs in [(0, 0), (1, 0), (0, 1), (1, 1)]:\n",
        "    y = XOR(xs[0], xs[1])\n",
        "    print(str(xs) + \"->\" +str(y))"
      ],
      "metadata": {
        "colab": {
          "base_uri": "https://localhost:8080/"
        },
        "id": "wGI0fWhketFJ",
        "outputId": "24c9f65b-e69f-4899-b11f-86a5a2e3bb49"
      },
      "execution_count": 55,
      "outputs": [
        {
          "output_type": "stream",
          "name": "stdout",
          "text": [
            "(0, 0)->0\n",
            "(1, 0)->1\n",
            "(0, 1)->1\n",
            "(1, 1)->0\n"
          ]
        }
      ]
    },
    {
      "cell_type": "code",
      "source": [
        ""
      ],
      "metadata": {
        "id": "qkbcvo_Vj8lm"
      },
      "execution_count": null,
      "outputs": []
    }
  ]
}