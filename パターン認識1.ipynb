{
  "nbformat": 4,
  "nbformat_minor": 0,
  "metadata": {
    "colab": {
      "name": "パターン認識1.ipynb",
      "provenance": [],
      "authorship_tag": "ABX9TyOVPN5QUy7FP1YrCxByjb5W",
      "include_colab_link": true
    },
    "kernelspec": {
      "name": "python3",
      "display_name": "Python 3"
    },
    "language_info": {
      "name": "python"
    }
  },
  "cells": [
    {
      "cell_type": "markdown",
      "metadata": {
        "id": "view-in-github",
        "colab_type": "text"
      },
      "source": [
        "<a href=\"https://colab.research.google.com/github/takatoshiinaoka/-pattern_recognition/blob/main/%E3%83%91%E3%82%BF%E3%83%BC%E3%83%B3%E8%AA%8D%E8%AD%981.ipynb\" target=\"_parent\"><img src=\"https://colab.research.google.com/assets/colab-badge.svg\" alt=\"Open In Colab\"/></a>"
      ]
    },
    {
      "cell_type": "code",
      "execution_count": 1,
      "metadata": {
        "colab": {
          "base_uri": "https://localhost:8080/"
        },
        "id": "ariuNWJ4sg1h",
        "outputId": "d86de732-d923-4e85-b66e-3ecaf854e539"
      },
      "outputs": [
        {
          "output_type": "execute_result",
          "data": {
            "text/plain": [
              "-1"
            ]
          },
          "metadata": {},
          "execution_count": 1
        }
      ],
      "source": [
        "1-2"
      ]
    },
    {
      "cell_type": "code",
      "source": [
        "4*5"
      ],
      "metadata": {
        "colab": {
          "base_uri": "https://localhost:8080/"
        },
        "id": "dnTyGrxAtTim",
        "outputId": "9c10e717-dd8b-4990-b912-37e51bf6c5fa"
      },
      "execution_count": 2,
      "outputs": [
        {
          "output_type": "execute_result",
          "data": {
            "text/plain": [
              "20"
            ]
          },
          "metadata": {},
          "execution_count": 2
        }
      ]
    },
    {
      "cell_type": "code",
      "source": [
        "7/5"
      ],
      "metadata": {
        "colab": {
          "base_uri": "https://localhost:8080/"
        },
        "id": "gimhrxButUmB",
        "outputId": "fcd77bb2-bdf6-439c-bc3b-338da79a6330"
      },
      "execution_count": 3,
      "outputs": [
        {
          "output_type": "execute_result",
          "data": {
            "text/plain": [
              "1.4"
            ]
          },
          "metadata": {},
          "execution_count": 3
        }
      ]
    },
    {
      "cell_type": "code",
      "source": [
        "3**2"
      ],
      "metadata": {
        "colab": {
          "base_uri": "https://localhost:8080/"
        },
        "id": "l9DgVEEttVfa",
        "outputId": "3e8aed8c-278d-4973-95d0-6b547cca94c0"
      },
      "execution_count": 4,
      "outputs": [
        {
          "output_type": "execute_result",
          "data": {
            "text/plain": [
              "9"
            ]
          },
          "metadata": {},
          "execution_count": 4
        }
      ]
    },
    {
      "cell_type": "code",
      "source": [
        "type(10)"
      ],
      "metadata": {
        "colab": {
          "base_uri": "https://localhost:8080/"
        },
        "id": "LyCoO5yWtYvn",
        "outputId": "aea2051c-209d-406d-830e-f3d5eea85a8a"
      },
      "execution_count": 5,
      "outputs": [
        {
          "output_type": "execute_result",
          "data": {
            "text/plain": [
              "int"
            ]
          },
          "metadata": {},
          "execution_count": 5
        }
      ]
    },
    {
      "cell_type": "code",
      "source": [
        "type(2.7)"
      ],
      "metadata": {
        "colab": {
          "base_uri": "https://localhost:8080/"
        },
        "id": "JvxC87yhtjNu",
        "outputId": "1199dba0-5ff0-4460-f81d-e4ff9770e797"
      },
      "execution_count": 15,
      "outputs": [
        {
          "output_type": "execute_result",
          "data": {
            "text/plain": [
              "str"
            ]
          },
          "metadata": {},
          "execution_count": 15
        }
      ]
    },
    {
      "cell_type": "code",
      "source": [
        "type(\"Hello\")"
      ],
      "metadata": {
        "colab": {
          "base_uri": "https://localhost:8080/"
        },
        "id": "axwyuI56tnOG",
        "outputId": "236be1c3-652b-4701-8bca-e44ad88f39d0"
      },
      "execution_count": 7,
      "outputs": [
        {
          "output_type": "execute_result",
          "data": {
            "text/plain": [
              "str"
            ]
          },
          "metadata": {},
          "execution_count": 7
        }
      ]
    },
    {
      "cell_type": "code",
      "source": [
        "x=10\n",
        "print(x)\n",
        "type(x)\n",
        "x=2.7\n",
        "print(x)\n",
        "type(x)"
      ],
      "metadata": {
        "colab": {
          "base_uri": "https://localhost:8080/"
        },
        "id": "nr9d9_Pitphz",
        "outputId": "4930c705-ecf1-49a9-9146-2441eebe77f4"
      },
      "execution_count": 14,
      "outputs": [
        {
          "output_type": "stream",
          "name": "stdout",
          "text": [
            "10\n",
            "2.7\n"
          ]
        },
        {
          "output_type": "execute_result",
          "data": {
            "text/plain": [
              "float"
            ]
          },
          "metadata": {},
          "execution_count": 14
        }
      ]
    },
    {
      "cell_type": "markdown",
      "source": [
        "### リスト\n",
        "- スライシングで配列の一部だけアクセス可能　　\n",
        "- 実際に試してみよう　　\n",
        "  - a[0:2] #インデックスの0番目から2番目(2番は含まない)まで取得\n",
        "  - a[1:]　＃インデックスの1番目から最後まで取得\n",
        "  - a[:3]　#最初からインデックスの3番目(3番は含まない)まで取得\n",
        "  - a[:-1] #最初から最後の要素の１つ前まで取得\n",
        "  - a[:-2] #最初から最後の要素の2つ前まで取得\n"
      ],
      "metadata": {
        "id": "uATCmCN8u6_n"
      }
    },
    {
      "cell_type": "code",
      "source": [
        "a=[1,2,3,4,5]\n",
        "print(a[4])\n",
        "a[4]=99\n",
        "print(a)\n",
        "print(a[0:2]) #インデックスの0番目から2番目(2番は含まない)まで取得\n",
        "print(a[1:])  #インデックスの1番目から最後まで取得\n",
        "print(a[:3])  #最初からインデックスの3番目(3番は含まない)まで取得\n",
        "print(a[:-1]) #最初から最後の要素の１つ前まで取得\n",
        "print(a[:-2]) #最初から最後の要素の2つ前まで取得"
      ],
      "metadata": {
        "colab": {
          "base_uri": "https://localhost:8080/"
        },
        "id": "mpv6R7SMvw71",
        "outputId": "64ee7751-c519-41d9-9918-68953c5370ff"
      },
      "execution_count": 36,
      "outputs": [
        {
          "output_type": "stream",
          "name": "stdout",
          "text": [
            "5\n",
            "[1, 2, 3, 4, 99]\n",
            "[1, 2]\n",
            "[2, 3, 4, 99]\n",
            "[1, 2, 3]\n",
            "[1, 2, 3, 4]\n",
            "[1, 2, 3]\n"
          ]
        }
      ]
    },
    {
      "cell_type": "markdown",
      "source": [
        "### ディクショナリ\n",
        "- キー('height'など)でアクセスできるデータ\n",
        "  - リストはインデックス番号([3]など)でアクセス\n",
        "- 実際に試してみよう \n",
        "  - me = {'height':180} #ディクショナリを作成\n",
        "  - me['height'] #要素にアクセス\n",
        "  - me['weight']=70 #新しい要素をついか"
      ],
      "metadata": {
        "id": "KwslmOQRwe3n"
      }
    },
    {
      "cell_type": "code",
      "source": [
        "me = {'height':180} #ディクショナリを作成\n",
        "print(me['height']) #要素にアクセス\n",
        "me['weight']=70 #新しい要素をついか\n",
        "print(me)"
      ],
      "metadata": {
        "colab": {
          "base_uri": "https://localhost:8080/"
        },
        "id": "lGlOl1Jzv8LW",
        "outputId": "851b8b9d-7828-4073-e43e-e82ccfe40ef9"
      },
      "execution_count": 32,
      "outputs": [
        {
          "output_type": "stream",
          "name": "stdout",
          "text": [
            "180\n",
            "{'height': 180, 'weight': 70}\n"
          ]
        }
      ]
    },
    {
      "cell_type": "markdown",
      "source": [
        "### ブーリアン\n",
        "- bool : Javaの boolean と同じ\n",
        "- 演算子として,andやor,notが使える\n",
        "- 実際に試してみよう"
      ],
      "metadata": {
        "id": "pa-hyC21x2av"
      }
    },
    {
      "cell_type": "code",
      "source": [
        "hungry = True\n",
        "sleepy = False\n",
        "print(type(hungry))\n",
        "print(not hungry)\n",
        "print(hungry and sleepy)\n",
        "print(hungry or sleepy)"
      ],
      "metadata": {
        "colab": {
          "base_uri": "https://localhost:8080/"
        },
        "id": "lexdrrhmxGvS",
        "outputId": "e27def08-6135-4a04-995f-670c3642f998"
      },
      "execution_count": 43,
      "outputs": [
        {
          "output_type": "stream",
          "name": "stdout",
          "text": [
            "<class 'bool'>\n",
            "False\n",
            "False\n",
            "True\n"
          ]
        }
      ]
    },
    {
      "cell_type": "code",
      "source": [
        "if hungry:\n",
        "  print(\"I'm hungry\")\n",
        "else:\n",
        "  print(\"I'm sleepy\")"
      ],
      "metadata": {
        "colab": {
          "base_uri": "https://localhost:8080/"
        },
        "id": "9X-PR6geyP-X",
        "outputId": "6d17bba1-20d4-4a81-d0b1-439284949512"
      },
      "execution_count": 44,
      "outputs": [
        {
          "output_type": "stream",
          "name": "stdout",
          "text": [
            "I'm hungry\n"
          ]
        }
      ]
    },
    {
      "cell_type": "code",
      "source": [
        "for i in [1,3,7]:\n",
        "  print(i)"
      ],
      "metadata": {
        "colab": {
          "base_uri": "https://localhost:8080/"
        },
        "id": "ZSWtiKOmy-uP",
        "outputId": "a5e5020b-1c9a-4bfc-a4bf-625c93bbdc07"
      },
      "execution_count": 45,
      "outputs": [
        {
          "output_type": "stream",
          "name": "stdout",
          "text": [
            "1\n",
            "3\n",
            "7\n"
          ]
        }
      ]
    },
    {
      "cell_type": "code",
      "source": [
        "def hello(object): #関数\n",
        "  print(\"Hello \"+object+\"!\")\n",
        "\n",
        "hello(\"cat\")"
      ],
      "metadata": {
        "colab": {
          "base_uri": "https://localhost:8080/"
        },
        "id": "v03Tn-9czHMg",
        "outputId": "0974b0df-d50e-497d-9676-55865fceb0f3"
      },
      "execution_count": 49,
      "outputs": [
        {
          "output_type": "stream",
          "name": "stdout",
          "text": [
            "Hello cat!\n"
          ]
        }
      ]
    },
    {
      "cell_type": "code",
      "source": [
        ""
      ],
      "metadata": {
        "id": "dstsgviHzeL5"
      },
      "execution_count": null,
      "outputs": []
    }
  ]
}