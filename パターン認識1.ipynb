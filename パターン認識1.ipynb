{
  "nbformat": 4,
  "nbformat_minor": 0,
  "metadata": {
    "colab": {
      "name": "パターン認識1.ipynb",
      "provenance": [],
      "collapsed_sections": [],
      "authorship_tag": "ABX9TyPnr/ghFxo4bj9wjMjH6LSm",
      "include_colab_link": true
    },
    "kernelspec": {
      "name": "python3",
      "display_name": "Python 3"
    },
    "language_info": {
      "name": "python"
    }
  },
  "cells": [
    {
      "cell_type": "markdown",
      "metadata": {
        "id": "view-in-github",
        "colab_type": "text"
      },
      "source": [
        "<a href=\"https://colab.research.google.com/github/takatoshiinaoka/-pattern_recognition/blob/main/%E3%83%91%E3%82%BF%E3%83%BC%E3%83%B3%E8%AA%8D%E8%AD%981.ipynb\" target=\"_parent\"><img src=\"https://colab.research.google.com/assets/colab-badge.svg\" alt=\"Open In Colab\"/></a>"
      ]
    },
    {
      "cell_type": "markdown",
      "source": [
        "# パターン認識 \n",
        "## 第1回：講義の進め方・Python入門(1章)"
      ],
      "metadata": {
        "id": "3qb5Chw3fI1k"
      }
    },
    {
      "cell_type": "code",
      "source": [
        "1-2"
      ],
      "metadata": {
        "colab": {
          "base_uri": "https://localhost:8080/"
        },
        "id": "UnWYmnTafcsl",
        "outputId": "d8357f41-b3cc-4013-89ce-530f01548758"
      },
      "execution_count": 41,
      "outputs": [
        {
          "output_type": "execute_result",
          "data": {
            "text/plain": [
              "-1"
            ]
          },
          "metadata": {},
          "execution_count": 41
        }
      ]
    },
    {
      "cell_type": "code",
      "source": [
        "4*5"
      ],
      "metadata": {
        "colab": {
          "base_uri": "https://localhost:8080/"
        },
        "id": "dnTyGrxAtTim",
        "outputId": "9c10e717-dd8b-4990-b912-37e51bf6c5fa"
      },
      "execution_count": 2,
      "outputs": [
        {
          "output_type": "execute_result",
          "data": {
            "text/plain": [
              "20"
            ]
          },
          "metadata": {},
          "execution_count": 2
        }
      ]
    },
    {
      "cell_type": "code",
      "source": [
        "7/5"
      ],
      "metadata": {
        "colab": {
          "base_uri": "https://localhost:8080/"
        },
        "id": "gimhrxButUmB",
        "outputId": "fcd77bb2-bdf6-439c-bc3b-338da79a6330"
      },
      "execution_count": 3,
      "outputs": [
        {
          "output_type": "execute_result",
          "data": {
            "text/plain": [
              "1.4"
            ]
          },
          "metadata": {},
          "execution_count": 3
        }
      ]
    },
    {
      "cell_type": "code",
      "source": [
        "3**2"
      ],
      "metadata": {
        "colab": {
          "base_uri": "https://localhost:8080/"
        },
        "id": "l9DgVEEttVfa",
        "outputId": "3e8aed8c-278d-4973-95d0-6b547cca94c0"
      },
      "execution_count": 4,
      "outputs": [
        {
          "output_type": "execute_result",
          "data": {
            "text/plain": [
              "9"
            ]
          },
          "metadata": {},
          "execution_count": 4
        }
      ]
    },
    {
      "cell_type": "code",
      "source": [
        "type(10)"
      ],
      "metadata": {
        "colab": {
          "base_uri": "https://localhost:8080/"
        },
        "id": "LyCoO5yWtYvn",
        "outputId": "aea2051c-209d-406d-830e-f3d5eea85a8a"
      },
      "execution_count": 5,
      "outputs": [
        {
          "output_type": "execute_result",
          "data": {
            "text/plain": [
              "int"
            ]
          },
          "metadata": {},
          "execution_count": 5
        }
      ]
    },
    {
      "cell_type": "code",
      "source": [
        "type(2.7)"
      ],
      "metadata": {
        "colab": {
          "base_uri": "https://localhost:8080/"
        },
        "id": "JvxC87yhtjNu",
        "outputId": "1199dba0-5ff0-4460-f81d-e4ff9770e797"
      },
      "execution_count": 15,
      "outputs": [
        {
          "output_type": "execute_result",
          "data": {
            "text/plain": [
              "str"
            ]
          },
          "metadata": {},
          "execution_count": 15
        }
      ]
    },
    {
      "cell_type": "code",
      "source": [
        "type(\"Hello\")"
      ],
      "metadata": {
        "colab": {
          "base_uri": "https://localhost:8080/"
        },
        "id": "axwyuI56tnOG",
        "outputId": "236be1c3-652b-4701-8bca-e44ad88f39d0"
      },
      "execution_count": 7,
      "outputs": [
        {
          "output_type": "execute_result",
          "data": {
            "text/plain": [
              "str"
            ]
          },
          "metadata": {},
          "execution_count": 7
        }
      ]
    },
    {
      "cell_type": "code",
      "source": [
        "x=10\n",
        "print(x)\n",
        "type(x)\n",
        "x=2.7\n",
        "print(x)\n",
        "type(x)"
      ],
      "metadata": {
        "colab": {
          "base_uri": "https://localhost:8080/"
        },
        "id": "nr9d9_Pitphz",
        "outputId": "4930c705-ecf1-49a9-9146-2441eebe77f4"
      },
      "execution_count": 14,
      "outputs": [
        {
          "output_type": "stream",
          "name": "stdout",
          "text": [
            "10\n",
            "2.7\n"
          ]
        },
        {
          "output_type": "execute_result",
          "data": {
            "text/plain": [
              "float"
            ]
          },
          "metadata": {},
          "execution_count": 14
        }
      ]
    },
    {
      "cell_type": "markdown",
      "source": [
        "### リスト\n",
        "- スライシングで配列の一部だけアクセス可能　　\n",
        "- 実際に試してみよう　　\n",
        "  - a[0:2] #インデックスの0番目から2番目(2番は含まない)まで取得\n",
        "  - a[1:]　＃インデックスの1番目から最後まで取得\n",
        "  - a[:3]　#最初からインデックスの3番目(3番は含まない)まで取得\n",
        "  - a[:-1] #最初から最後の要素の１つ前まで取得\n",
        "  - a[:-2] #最初から最後の要素の2つ前まで取得\n"
      ],
      "metadata": {
        "id": "uATCmCN8u6_n"
      }
    },
    {
      "cell_type": "code",
      "source": [
        "a=[1,2,3,4,5]\n",
        "print(a[4])\n",
        "a[4]=99\n",
        "print(a)\n",
        "print(a[0:2]) #インデックスの0番目から2番目(2番は含まない)まで取得\n",
        "print(a[1:])  #インデックスの1番目から最後まで取得\n",
        "print(a[:3])  #最初からインデックスの3番目(3番は含まない)まで取得\n",
        "print(a[:-1]) #最初から最後の要素の１つ前まで取得\n",
        "print(a[:-2]) #最初から最後の要素の2つ前まで取得"
      ],
      "metadata": {
        "colab": {
          "base_uri": "https://localhost:8080/"
        },
        "id": "mpv6R7SMvw71",
        "outputId": "387fea50-8ad3-408c-924c-fe21279744b6"
      },
      "execution_count": 3,
      "outputs": [
        {
          "output_type": "stream",
          "name": "stdout",
          "text": [
            "5\n",
            "[1, 2, 3, 4, 99]\n",
            "[1, 2]\n",
            "[2, 3, 4, 99]\n",
            "[1, 2, 3]\n",
            "[1, 2, 3, 4]\n",
            "[1, 2, 3]\n"
          ]
        }
      ]
    },
    {
      "cell_type": "markdown",
      "source": [
        "### ディクショナリ\n",
        "- キー('height'など)でアクセスできるデータ\n",
        "  - リストはインデックス番号([3]など)でアクセス\n",
        "- 実際に試してみよう \n",
        "  - me = {'height':180} #ディクショナリを作成\n",
        "  - me['height'] #要素にアクセス\n",
        "  - me['weight']=70 #新しい要素をついか"
      ],
      "metadata": {
        "id": "KwslmOQRwe3n"
      }
    },
    {
      "cell_type": "code",
      "source": [
        "me = {'height':180} #ディクショナリを作成\n",
        "print(me['height']) #要素にアクセス\n",
        "me['weight']=70 #新しい要素をついか\n",
        "print(me)"
      ],
      "metadata": {
        "colab": {
          "base_uri": "https://localhost:8080/"
        },
        "id": "lGlOl1Jzv8LW",
        "outputId": "686a48e8-4fe9-45c8-8b08-a3298395702a"
      },
      "execution_count": 4,
      "outputs": [
        {
          "output_type": "stream",
          "name": "stdout",
          "text": [
            "180\n",
            "{'height': 180, 'weight': 70}\n"
          ]
        }
      ]
    },
    {
      "cell_type": "markdown",
      "source": [
        "### ブーリアン\n",
        "- bool : Javaの boolean と同じ\n",
        "- 演算子として,andやor,notが使える\n",
        "- 実際に試してみよう"
      ],
      "metadata": {
        "id": "pa-hyC21x2av"
      }
    },
    {
      "cell_type": "code",
      "source": [
        "hungry = True\n",
        "sleepy = False\n",
        "print(type(hungry))\n",
        "print(not hungry)\n",
        "print(hungry and sleepy)\n",
        "print(hungry or sleepy)"
      ],
      "metadata": {
        "colab": {
          "base_uri": "https://localhost:8080/"
        },
        "id": "lexdrrhmxGvS",
        "outputId": "9d61a1e8-ba23-4988-858b-040d4d1fc118"
      },
      "execution_count": 5,
      "outputs": [
        {
          "output_type": "stream",
          "name": "stdout",
          "text": [
            "<class 'bool'>\n",
            "False\n",
            "False\n",
            "True\n"
          ]
        }
      ]
    },
    {
      "cell_type": "code",
      "source": [
        "if hungry:\n",
        "  print(\"I'm hungry\")\n",
        "else:\n",
        "  print(\"I'm sleepy\")"
      ],
      "metadata": {
        "colab": {
          "base_uri": "https://localhost:8080/"
        },
        "id": "9X-PR6geyP-X",
        "outputId": "d0a2d1fe-c602-4ab2-d581-4002109a912d"
      },
      "execution_count": 6,
      "outputs": [
        {
          "output_type": "stream",
          "name": "stdout",
          "text": [
            "I'm hungry\n"
          ]
        }
      ]
    },
    {
      "cell_type": "code",
      "source": [
        "for i in [1,3,7]:\n",
        "  print(i)"
      ],
      "metadata": {
        "colab": {
          "base_uri": "https://localhost:8080/"
        },
        "id": "ZSWtiKOmy-uP",
        "outputId": "7b51ca0c-7b65-4499-d5e5-b4da118c8494"
      },
      "execution_count": 7,
      "outputs": [
        {
          "output_type": "stream",
          "name": "stdout",
          "text": [
            "1\n",
            "3\n",
            "7\n"
          ]
        }
      ]
    },
    {
      "cell_type": "code",
      "source": [
        "def hello(object): #関数\n",
        "  print(\"Hello \"+object+\"!\")\n",
        "\n",
        "hello(\"cat\")"
      ],
      "metadata": {
        "colab": {
          "base_uri": "https://localhost:8080/"
        },
        "id": "v03Tn-9czHMg",
        "outputId": "9ce56311-785a-42cd-f526-39fb4ca8a393"
      },
      "execution_count": 8,
      "outputs": [
        {
          "output_type": "stream",
          "name": "stdout",
          "text": [
            "Hello cat!\n"
          ]
        }
      ]
    },
    {
      "cell_type": "markdown",
      "source": [
        "### クラス\n",
        "- Javaのクラスやメソッドと同じ概念だが,文法はだいぶ違う\n",
        "  - コンストラクトは __init__\n",
        "  - 自身のインスタンスは　self\n",
        "  ```\n",
        "  class クラス名:\n",
        "    def __init__(self, 引数, ...): #コンストラクタ\n",
        "      ...\n",
        "    def メソッド名1(self, 引数, ...): #メソッド1\n",
        "      ...\n",
        "    def メソッド名2(self, 引数, ...) #メソッド2\n",
        "      ...\n",
        "  ```"
      ],
      "metadata": {
        "id": "qPtBzQUI0Zmv"
      }
    },
    {
      "cell_type": "code",
      "source": [
        "class Man:\n",
        "  \"\"\"サンプルクラス\"\"\"\n",
        "\n",
        "  def __init__(self, name):\n",
        "      self.name = name\n",
        "      print(\"Initilized\")\n",
        "  \n",
        "  def hello(self):\n",
        "    print(\"Hello\"+ self.name +\" !\")\n",
        "  \n",
        "  def goodbye(self):\n",
        "    print(\"Good bye\"+ self.name +\" !\")\n",
        "\n",
        "m=Man(\"Takatoshi\")\n",
        "m.hello()\n",
        "m.goodbye()"
      ],
      "metadata": {
        "colab": {
          "base_uri": "https://localhost:8080/"
        },
        "id": "dstsgviHzeL5",
        "outputId": "a71f6aa2-b5df-40de-a278-632a31fa3c5f"
      },
      "execution_count": 9,
      "outputs": [
        {
          "output_type": "stream",
          "name": "stdout",
          "text": [
            "Initilized\n",
            "HelloTakatoshi !\n",
            "Good byeTakatoshi !\n"
          ]
        }
      ]
    },
    {
      "cell_type": "markdown",
      "source": [
        "### NumPy\n",
        "- NumPyの配列クラス(numpy.array)は配列や行列の計算に便利\n",
        "- NumPyのインポート\n",
        "  - NumPyはPythonの外部ライブラリ\n",
        "    - Anaconda Navigator などでPythonから使えるようにしておく必要はあり\n",
        "  - Pythonライブラリを使う際にはimportする  \n",
        "  ```\n",
        "  import numpy as np #npとしてnumpyをimport\n",
        "  ```"
      ],
      "metadata": {
        "id": "xCTBHt0H2Yna"
      }
    },
    {
      "cell_type": "code",
      "source": [
        "import numpy as np #npとしてnumpyをimport\n",
        "a=[1.0, 2.0, 3.0]\n",
        "print(a)\n",
        "type(a)"
      ],
      "metadata": {
        "colab": {
          "base_uri": "https://localhost:8080/"
        },
        "id": "sf6pD6aB1uN7",
        "outputId": "9639d390-dd9d-42db-e2d2-99aab3478565"
      },
      "execution_count": 12,
      "outputs": [
        {
          "output_type": "stream",
          "name": "stdout",
          "text": [
            "[1.0, 2.0, 3.0]\n"
          ]
        },
        {
          "output_type": "execute_result",
          "data": {
            "text/plain": [
              "list"
            ]
          },
          "metadata": {},
          "execution_count": 12
        }
      ]
    },
    {
      "cell_type": "code",
      "source": [
        "x=np.array(a)\n",
        "print(x)\n",
        "type(x)"
      ],
      "metadata": {
        "colab": {
          "base_uri": "https://localhost:8080/"
        },
        "id": "zaMj4Ud43xCh",
        "outputId": "46ccd957-5a0a-42a8-c811-b96ccb7bfec6"
      },
      "execution_count": 13,
      "outputs": [
        {
          "output_type": "stream",
          "name": "stdout",
          "text": [
            "[1. 2. 3.]\n"
          ]
        },
        {
          "output_type": "execute_result",
          "data": {
            "text/plain": [
              "numpy.ndarray"
            ]
          },
          "metadata": {},
          "execution_count": 13
        }
      ]
    },
    {
      "cell_type": "code",
      "source": [
        "y=np.array([2.0, 4.0, 6.0])\n",
        "print(y)"
      ],
      "metadata": {
        "colab": {
          "base_uri": "https://localhost:8080/"
        },
        "id": "UxJxfK55316r",
        "outputId": "18929805-bbf2-42bc-9816-bb7cf9b08a0c"
      },
      "execution_count": 14,
      "outputs": [
        {
          "output_type": "stream",
          "name": "stdout",
          "text": [
            "[2. 4. 6.]\n"
          ]
        }
      ]
    },
    {
      "cell_type": "code",
      "source": [
        "x+y"
      ],
      "metadata": {
        "colab": {
          "base_uri": "https://localhost:8080/"
        },
        "id": "OsFVIN904cPu",
        "outputId": "5575e222-414b-4306-9811-e60516957222"
      },
      "execution_count": 64,
      "outputs": [
        {
          "output_type": "execute_result",
          "data": {
            "text/plain": [
              "array([3., 6., 9.])"
            ]
          },
          "metadata": {},
          "execution_count": 64
        }
      ]
    },
    {
      "cell_type": "code",
      "source": [
        "x*y"
      ],
      "metadata": {
        "colab": {
          "base_uri": "https://localhost:8080/"
        },
        "id": "4w0BK7D84goJ",
        "outputId": "6ccab948-1646-4f3d-ef9e-1029abb91e91"
      },
      "execution_count": 65,
      "outputs": [
        {
          "output_type": "execute_result",
          "data": {
            "text/plain": [
              "array([ 2.,  8., 18.])"
            ]
          },
          "metadata": {},
          "execution_count": 65
        }
      ]
    },
    {
      "cell_type": "code",
      "source": [
        "np.dot(x,y) #ベクトルの内積"
      ],
      "metadata": {
        "colab": {
          "base_uri": "https://localhost:8080/"
        },
        "id": "eUugIPm64lXx",
        "outputId": "ffcf200d-d273-4000-ade5-c8b75b8df187"
      },
      "execution_count": 15,
      "outputs": [
        {
          "output_type": "execute_result",
          "data": {
            "text/plain": [
              "28.0"
            ]
          },
          "metadata": {},
          "execution_count": 15
        }
      ]
    },
    {
      "cell_type": "code",
      "source": [
        "np.cross(x,y) #外戚"
      ],
      "metadata": {
        "colab": {
          "base_uri": "https://localhost:8080/"
        },
        "id": "G8ocxCdD4uOC",
        "outputId": "70995cf2-2646-4f0d-f9ee-aa40ea209e4a"
      },
      "execution_count": 16,
      "outputs": [
        {
          "output_type": "execute_result",
          "data": {
            "text/plain": [
              "array([0., 0., 0.])"
            ]
          },
          "metadata": {},
          "execution_count": 16
        }
      ]
    },
    {
      "cell_type": "markdown",
      "source": [
        "### NumPyのN次元配列\n",
        "- 行列は2次元配列\n",
        "- 算術計算は要素ごと\n",
        "- 実際に試してみよう"
      ],
      "metadata": {
        "id": "MqeiwsZ_5Aba"
      }
    },
    {
      "cell_type": "code",
      "source": [
        "A=np.array([[1,2], \n",
        "            [3,4]])\n",
        "B=np.array([[3,0],\n",
        "            [0,6]])\n",
        "print(A.shape) #配列の形(大きさ)\n",
        "print(A.dtype) #要素の型\n",
        "print()\n",
        "print(A+B) #要素ごとの和\n",
        "print()\n",
        "print(A*B) #要素ごとの積\n",
        "print()\n",
        "print(np.dot(A,B)) #内積\n",
        "print()\n",
        "print(np.dot(B,A)) #内積の逆行列"
      ],
      "metadata": {
        "colab": {
          "base_uri": "https://localhost:8080/"
        },
        "id": "PohmKJoF44qF",
        "outputId": "fd24275d-d2c4-4252-8abd-192ea8acf343"
      },
      "execution_count": 18,
      "outputs": [
        {
          "output_type": "stream",
          "name": "stdout",
          "text": [
            "(2, 2)\n",
            "int64\n",
            "\n",
            "[[ 4  2]\n",
            " [ 3 10]]\n",
            "\n",
            "[[ 3  0]\n",
            " [ 0 24]]\n",
            "\n",
            "[[ 3 12]\n",
            " [ 9 24]]\n",
            "\n",
            "[[ 3  6]\n",
            " [18 24]]\n"
          ]
        }
      ]
    },
    {
      "cell_type": "markdown",
      "source": [
        "### 数学の話\n",
        "N次元： テンソル(Tensor)  \n",
        "0次元： スカラー(Scalar)  \n",
        "1次元： ベクトル(Vector)  \n",
        "2次元： 行列(Matrix)  \n",
        "3次元以上： テンソル"
      ],
      "metadata": {
        "id": "RNeN9AX4aRwt"
      }
    },
    {
      "cell_type": "markdown",
      "source": [
        "### ブロードキャスト\n",
        "- 形が違う配列の計算"
      ],
      "metadata": {
        "id": "d1C1--Pua9Pc"
      }
    },
    {
      "cell_type": "code",
      "source": [
        "import numpy as np\n",
        "A = np.array([[1,2],[3,4]])\n",
        "print(A*2)  #2×2行列　＊ スカラー\n",
        "B=np.array([10,20])\n",
        "print(A*B)  #2×2行列　＊ ベクトル"
      ],
      "metadata": {
        "colab": {
          "base_uri": "https://localhost:8080/"
        },
        "id": "PUADaqlK5Z-h",
        "outputId": "9e82827c-392d-47a5-9210-6b449613757c"
      },
      "execution_count": 21,
      "outputs": [
        {
          "output_type": "stream",
          "name": "stdout",
          "text": [
            "[[2 4]\n",
            " [6 8]]\n",
            "[[10 40]\n",
            " [30 80]]\n"
          ]
        }
      ]
    },
    {
      "cell_type": "markdown",
      "source": [
        "### 要素へのアクセス"
      ],
      "metadata": {
        "id": "6RDumFSyb0zN"
      }
    },
    {
      "cell_type": "code",
      "source": [
        "X=np.array([[51,55], [14,19], [0,4]])\n",
        "print(X[0])\n",
        "print(X[0][1] ,end='\\n\\n') #endで改行を2回して表示を綺麗に\n",
        "\n",
        "for row in X:\n",
        "  print(row)\n",
        "\n",
        "print()\n",
        "\n",
        "for row in X:\n",
        "  for num in row:\n",
        "    print(num , end=' ') #end='' は改行させずに出力\n",
        "\n",
        "X=X.flatten() #Xを1次元配列へ変換\n",
        "print(X)\n",
        "\n",
        "print(X[np.array([0,2,4])]) #インデックスが 0,2,4番目の要素を取得\n",
        "print(X > 15)   #15より大きいかbool型の配列\n",
        "print(X[X>15])  #15より大きい値だけ取り出す"
      ],
      "metadata": {
        "colab": {
          "base_uri": "https://localhost:8080/"
        },
        "id": "E4IjMNtsbcsI",
        "outputId": "019d63e2-4a5c-4f8f-c79b-1c7e6f70c242"
      },
      "execution_count": 40,
      "outputs": [
        {
          "output_type": "stream",
          "name": "stdout",
          "text": [
            "[51 55]\n",
            "55\n",
            "\n",
            "[51 55]\n",
            "[14 19]\n",
            "[0 4]\n",
            "\n",
            "51 55 14 19 0 4 [51 55 14 19  0  4]\n",
            "[51 14  0]\n",
            "[ True  True False  True False False]\n",
            "[51 55 19]\n"
          ]
        }
      ]
    },
    {
      "cell_type": "markdown",
      "source": [
        "### Matplotlib\n",
        "- グラフ描画の外部ライブラリ\n"
      ],
      "metadata": {
        "id": "0DW8vDDKfhsf"
      }
    },
    {
      "cell_type": "code",
      "source": [
        "import numpy as np\n",
        "import matplotlib.pyplot as plt\n",
        "\n",
        "#データの作成\n",
        "x = np.arange(0, 6, 0.1) #0から6まで0.1刻みで生成\n",
        "y = np.sin(x)\n",
        "\n",
        "#グラフの描画\n",
        "plt.plot(x, y)\n",
        "plt.show()"
      ],
      "metadata": {
        "colab": {
          "base_uri": "https://localhost:8080/",
          "height": 265
        },
        "id": "9qX66L8ycN9d",
        "outputId": "fe7e008d-83ad-4ee3-d10c-6525170c5c91"
      },
      "execution_count": 43,
      "outputs": [
        {
          "output_type": "display_data",
          "data": {
            "text/plain": [
              "<Figure size 432x288 with 1 Axes>"
            ],
            "image/png": "[encoded data removed]"
          },
          "metadata": {
            "needs_background": "light"
          }
        }
      ]
    },
    {
      "cell_type": "code",
      "source": [
        "import numpy as np\n",
        "import matplotlib.pyplot as plt\n",
        "\n",
        "#データの生成\n",
        "x = np.arange(0, 6, 0.1)\n",
        "y1 = np.sin(x)\n",
        "y2 = np.cos(x)\n",
        "\n",
        "#グラフの描画\n",
        "plt.plot(x, y1, label=\"sin\")\n",
        "plt.plot(x, y2, linestyle = \"--\", label=\"cos\")\n",
        "plt.xlabel(\"x\") #x軸のラベル\n",
        "plt.ylabel(\"y\") #y軸のラベル\n",
        "plt.title('sin & cos')\n",
        "plt.legend()\n",
        "plt.show()"
      ],
      "metadata": {
        "colab": {
          "base_uri": "https://localhost:8080/",
          "height": 295
        },
        "id": "SDewAT1UhCgg",
        "outputId": "039b0282-9d11-437a-9dcb-2b84bdadae5c"
      },
      "execution_count": 46,
      "outputs": [
        {
          "output_type": "display_data",
          "data": {
            "text/plain": [
              "<Figure size 432x288 with 1 Axes>"
            ],
            "image/png": "[encoded data removed]"
          },
          "metadata": {
            "needs_background": "light"
          }
        }
      ]
    },
    {
      "cell_type": "code",
      "source": [
        "import matplotlib.pyplot as plt\n",
        "from matplotlib.image import imread\n",
        "\n",
        "img = imread('../img.png') #画像の読み込み\n",
        "plt.imshow(img)\n",
        "\n",
        "plt.show()"
      ],
      "metadata": {
        "id": "PmlCuImHgV3t"
      },
      "execution_count": null,
      "outputs": []
    },
    {
      "cell_type": "code",
      "source": [
        "! ls -la"
      ],
      "metadata": {
        "colab": {
          "base_uri": "https://localhost:8080/"
        },
        "id": "lDAkEumZiFA9",
        "outputId": "6c5eff5c-8095-4169-df36-d07f6e4ce171"
      },
      "execution_count": 48,
      "outputs": [
        {
          "output_type": "stream",
          "name": "stdout",
          "text": [
            "total 16\n",
            "drwxr-xr-x 1 root root 4096 May 17 13:39 .\n",
            "drwxr-xr-x 1 root root 4096 May 21 02:15 ..\n",
            "drwxr-xr-x 4 root root 4096 May 17 13:38 .config\n",
            "drwxr-xr-x 1 root root 4096 May 17 13:39 sample_data\n"
          ]
        }
      ]
    },
    {
      "cell_type": "code",
      "source": [
        "import numpy as np #npとしてnumpyをimport\n",
        "x = np.arange(-10,10)\n",
        "x = x*x\n",
        "print(x[x<20])"
      ],
      "metadata": {
        "colab": {
          "base_uri": "https://localhost:8080/"
        },
        "id": "XJJasZbAiGHd",
        "outputId": "dbeb79c7-9a03-463c-d858-004ed3df3085"
      },
      "execution_count": 49,
      "outputs": [
        {
          "output_type": "stream",
          "name": "stdout",
          "text": [
            "[16  9  4  1  0  1  4  9 16]\n"
          ]
        }
      ]
    },
    {
      "cell_type": "code",
      "source": [
        ""
      ],
      "metadata": {
        "id": "RxZO0uHMjAMW"
      },
      "execution_count": null,
      "outputs": []
    }
  ]
}